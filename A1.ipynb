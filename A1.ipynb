{
  "nbformat": 4,
  "nbformat_minor": 0,
  "metadata": {
    "colab": {
      "name": "A1.ipynb",
      "version": "0.3.2",
      "provenance": [],
      "include_colab_link": true
    },
    "kernelspec": {
      "name": "python3",
      "display_name": "Python 3"
    }
  },
  "cells": [
    {
      "cell_type": "markdown",
      "metadata": {
        "id": "view-in-github",
        "colab_type": "text"
      },
      "source": [
        "<a href=\"https://colab.research.google.com/github/HnnaYang/UTS_ML2019_ID12806131/blob/master/A1.ipynb\" target=\"_parent\"><img src=\"https://colab.research.google.com/assets/colab-badge.svg\" alt=\"Open In Colab\"/></a>"
      ]
    },
    {
      "cell_type": "markdown",
      "metadata": {
        "id": "I5v02TZ1wmYj",
        "colab_type": "text"
      },
      "source": [
        "#Review report on “Eigenfaces vs. Fisherfaces: Recognition Using Class Specific Linear Projection”\n",
        "\n",
        "##Introduction\n",
        "Face recognition technology is a comprehensive technology involving advanced mathematics, operations research, digital image processing technology and computer vision technology. It is a biometric technology based on human facial feature information for identification. Using a camera or camera to capture an image or video stream containing a face, and automatically detect and track the face in the image, and then perform a series of related techniques on the front of the exposed face, usually called portrait recognition and face recognition. In the 1950s, scientists began to study face recognition technology for the first time. In the 1960s, scientists began to identify the feature points of human faces, but the accuracy of recognition was very low. Until 1991, based on statistical principles, the face recognition technology of 'feature face' appears, which significantly improves the accuracy of recognition. Nowadays, the technology of face recognition can be applied to many fields, which brings great convenience to people's lives.\n",
        "This article will discuss and analyses the literature “Eigenfaces vs. Fisherfaces: Recognition Using Class Specific Linear Projection” from seven sections. Firstly, I will introduce the basic concepts and development history of face recognition technology. In the second part, I will outline the main content of the research literature and the challenges and issues that the research is trying to solve. Then I will describe the innovations in the research literature. In the fourth part, which is technical quality, I will discuss and analyses the technical quality of the research literature. Next, I will make some suggestions for the future development and application of the research literature. The fifth part of the article is the presentation. The reference will show in the last of the article.\n",
        "##Content\n",
        "This research is mainly about the principal component analysis (PCA) and linear discriminant analysis (LDA) in image processing that a new face recognition algorithm was proposed. This paper proposes a facial recognition algorithm called Fisherfaces, which is less affected by the illumination direction and facial expression changes, thus significantly improving the accuracy of face recognition.\n",
        "The literature consists of four parts, which are introduction, methods, experimental results and conclusion. To be more specific, In the first part, the author introduces the research background of current face recognition and briefly describes the viewpoint of the paper and the main research methods used in this article. At the end of this section, some of the literature views cited by the author are mentioned. The second part of the article is a detailed description of the research methods used by the author. The authors tried four face recognition techniques, which are Correlation, Eigenfaces, Linear Subspaces and Fisherfaces to compare the effects of illumination and facial expression changes on face recognition accuracy. \n",
        "The third part of the article presents the results of the experiment. The experimental data for this experiment was from two databases, one is from the Harvard Robotics Laboratory, and the other one is from Yale. Finally, the author summarises the results of the experiment and proposes some issues that remain to be resolved.\n",
        "In this study, the author mainly encountered two problems that need to be tried to solve. One is that the data used in the experiment is not enough. Because the research has specific requirements for the illumination of the desired image and the change of the facial expression, most of the data in the standard database are not satisfied, so the author needs to create the experiment database himself. The other problem that the author tries to solve in this study is how to reduce the impact of illumination and facial expression on face recognition accuracy.\n",
        "##Innovation\n",
        "In the past 20 years, experts in various fields have conducted extensive research on multiple aspects of face recognition. From the 1950s to 1980s, face recognition is usually only studied as a general pattern recognition problem. The leading technical solution adopted is based on the method of geometric feature-based. At this stage, a large number of structural features extraction and analysis of facial silhouette curves have been studied. In the 1980s, face recognition technical was basically in a state of stagnation; since the early 1990s, face recognition technology has developed rapidly, has not only several representative face recognition algorithms but also several face recognition systems can be used for commercialisation. The eigenfaces algorithms proposed by Turk and Pentland (1991) undoubtedly the most prestigious method of face recognition during this period. Many face recognition techniques have been related to eigenfaces. Now, eigenfaces have become the benchmark test algorithm for face recognition along with the normalised correlation method. Another important finding of this period was a comparative experiment conducted by Brunelli and Poggio around 1992. They compared the recognition performance of structural feature-based methods with template-based matching methods, and a relatively definitive conclusion is given: the template matching method is better than the feature-based method. Under the joint effect of this guiding conclusion and the eigenfaces which terminates the face recognition research based on structural features and promotes the appearance-based linear subspace modelling. The development of face recognition method based on statistical pattern recognition technology has gradually become Mainstream face recognition technology\n",
        "Although many face recognition algorithms have been proposed, which can still perform face recognition in the case of slight changes in illumination, facial expressions and posture, but once the lighting changes significantly, the posture changes much or facial expressions when exaggerated, the accuracy of face recognition is reduced substantially.\n",
        "In this paper, the author proposes a new algorithm which is called Fisherfaces to solve the above problems. The algorithm uses Principal Component Analysis (also known as eigenface) to reduce the apparent features of the image at first. On this basis, the linear discriminant analysis method is used to transform the principal components after dimensionality reduction in order to obtain the largest inter-class divergence and the smallest intra-class divergence. Therefore, this mode has the best separability in space.\n",
        "\n",
        "##Technical quality \n",
        "The authors confirmed their views through three comparative experiments. \n",
        "In the first experiment, only the change in the angle of the light source was a variable, and the rest were quantified, and the data was sampled in increments of 15°. The following conclusions were obtained through experiments: the three algorithms, which are eigenface, correlation and linear subspace, got the same results when the light source was directly on the front side. Through the experiment, the following conclusions are drawn: When the light source directly illuminates the front side, all algorithms can accurately recognise the human face. When the light source is changed at an angle of 15°, the error rates of the three algorithms eigenface, correlation and linear subspace are significantly improved. It is evident from the experimental data that although the error rates of the linear subspace algorithm and the Fisherface algorithm are meagre, the linear subspace algorithm needs to store information and time of operations for more than three times longer than the Fisherface algorithm. The error rate of the Fisherface algorithm is not only lower than the eigenface algorithm, but also the calculation time is shorter than it.\n",
        "In the second experiment, the authors performed three small contrast experiments with glasses, light sources, and expressions. It is not difficult to see from the experimental results that the accuracy of the Fischer algorithm is much higher than that of other algorithms, regardless of whether the image is cropped or not.\n",
        "The third experiment done by the author was to use the PCA algorithm and the Fisherface algorithm to identify whether to wear glasses. It can be seen from the experimental results that the error rate of the Fisherface algorithm is much lower than that of the PCA algorithm.\n",
        "In my opinion, this literature has a high technical quality. Through three experiments, the author rigorously confirmed that the Fisherface algorithm is the best way to handle both the light and expression changes.\n",
        "Application and X-factor \n",
        "Face recognition technology is widely used in public safety, information security, government functions and other fields. The research focuses on the critical applications of face recognition technology in access control, marketing and commercial banking. With the development of face recognition technology, it is believed that it will usher in a broader and deeper development space. This paper mostly solves the influence of light, facial expressions and posture on the accuracy of face recognition, and addresses the problems encountered in the field of face recognition applications.\n",
        "By reading and querying the literature, I have a certain understanding of the PCA algorithm and the Fisherface algorithm. Both PCA and LDA are commonly used methods for data dimensionality reduction. The difference between the two is that the PCA algorithm is an unsupervised learning method and belongs to automatic clustering. Once the direction has deviated, a significant error is produced. Fisher linear discriminant method belongs to supervised learning, and face recognition belongs to a high-dimensional small sample problem. Therefore, after the dimensional reduction of the projection matrix, it is easy to cause the singularity of the intra-class walking matrix. In order to get the best discriminant vector, I think we can use the hybrid method which combines the improved PCA algorithm and Fisher's linear discriminant algorithm. This scheme is superior to the single PCA algorithm or LDA algorithm, which can improve the accuracy of face recognition. Although face recognition technology has made significant progress, there are still some problems to be solved. For example, face calibration problems, age issues, masking. We should study these issues to find more effective face recognition methods further.\n",
        "##Presentation \n",
        "This article mainly discusses and compares several classical algorithms for face recognition technology. The overall structure of the article is clear, and the content is very refined. The author analyses and interprets the core content of the paper through experiments and is equipped with a large number of pictures to make it easier for readers to understand the content of the article.\n",
        "In this article, the author proposes a new algorithm that can significantly reduce the impact of light, facial expressions and posture on face recognition accuracy. In order to prove the feasibility of the scheme, the author conducted three experiments, and the final experimental results show that the Fisherface algorithm is indeed the best method for simultaneously processing changes in light and facial expressions.\n",
        "\n",
        "\n",
        "##Reference\n",
        "\n",
        "Bruce, V. & Young, A. 1986, 'Understanding face recognition', British journal of psychology, vol. 77, no. 3, pp. 305-27.\n",
        "\n",
        "Chellappa, R., Wilson, C.L. & Sirohey, S. 1995, 'Human and machine recognition of faces: A survey', Proceedings of the IEEE, vol. 83, no. 5, pp. 705-40.\n",
        "\n",
        "Jing, X.-Y., Wong, H.-S. & Zhang, D. 2006, 'Face recognition based on 2D Fisherface approach', Pattern Recognition, vol. 39, no. 4, pp. 707-10.\n",
        "\n",
        "Lu, J., Plataniotis, K.N. & Venetsanopoulos, A.N. 2003, 'Face recognition using LDA-based algorithms', IEEE Transactions on Neural networks, vol. 14, no. 1, pp. 195-200\n",
        "\n",
        "Martínez, A.M. & Kak, A.C. 2001, 'Pca versus lda', IEEE transactions on pattern analysis and machine intelligence, vol. 23, no. 2, pp. 228-33\n",
        "\n",
        "Turk, M.A. & Pentland, A.P. 1991, 'Face recognition using eigenfaces', Proceedings. 1991 IEEE Computer Society Conference on Computer Vision and Pattern Recognition, IEEE, pp. 586-91.\n",
        "\n",
        "Zhou, C., Wang, L., Zhang, Q. & Wei, X. 2013, 'Face recognition based on PCA image reconstruction and LDA', Optik, vol. 124, no. 22, pp. 5599-603.\n",
        "\n",
        "\n"
      ]
    }
  ]
}